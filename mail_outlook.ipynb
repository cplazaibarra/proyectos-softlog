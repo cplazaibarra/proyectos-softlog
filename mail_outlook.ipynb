{
 "cells": [
  {
   "cell_type": "code",
   "execution_count": 1,
   "metadata": {},
   "outputs": [],
   "source": [
    "import imaplib\n",
    "import email\n",
    "from email.header import decode_header"
   ]
  },
  {
   "cell_type": "code",
   "execution_count": 5,
   "metadata": {},
   "outputs": [
    {
     "ename": "error",
     "evalue": "b'LOGIN failed.'",
     "output_type": "error",
     "traceback": [
      "\u001b[1;31m---------------------------------------------------------------------------\u001b[0m",
      "\u001b[1;31merror\u001b[0m                                     Traceback (most recent call last)",
      "Cell \u001b[1;32mIn[5], line 8\u001b[0m\n\u001b[0;32m      6\u001b[0m \u001b[38;5;66;03m# Conexión al servidor\u001b[39;00m\n\u001b[0;32m      7\u001b[0m mail \u001b[38;5;241m=\u001b[39m imaplib\u001b[38;5;241m.\u001b[39mIMAP4_SSL(imap_server)\n\u001b[1;32m----> 8\u001b[0m \u001b[43mmail\u001b[49m\u001b[38;5;241;43m.\u001b[39;49m\u001b[43mlogin\u001b[49m\u001b[43m(\u001b[49m\u001b[43musername\u001b[49m\u001b[43m,\u001b[49m\u001b[43m \u001b[49m\u001b[43mpassword\u001b[49m\u001b[43m)\u001b[49m\n",
      "File \u001b[1;32mc:\\ProgramData\\anaconda3\\envs\\env_ts\\lib\\imaplib.py:612\u001b[0m, in \u001b[0;36mIMAP4.login\u001b[1;34m(self, user, password)\u001b[0m\n\u001b[0;32m    610\u001b[0m typ, dat \u001b[38;5;241m=\u001b[39m \u001b[38;5;28mself\u001b[39m\u001b[38;5;241m.\u001b[39m_simple_command(\u001b[38;5;124m'\u001b[39m\u001b[38;5;124mLOGIN\u001b[39m\u001b[38;5;124m'\u001b[39m, user, \u001b[38;5;28mself\u001b[39m\u001b[38;5;241m.\u001b[39m_quote(password))\n\u001b[0;32m    611\u001b[0m \u001b[38;5;28;01mif\u001b[39;00m typ \u001b[38;5;241m!=\u001b[39m \u001b[38;5;124m'\u001b[39m\u001b[38;5;124mOK\u001b[39m\u001b[38;5;124m'\u001b[39m:\n\u001b[1;32m--> 612\u001b[0m     \u001b[38;5;28;01mraise\u001b[39;00m \u001b[38;5;28mself\u001b[39m\u001b[38;5;241m.\u001b[39merror(dat[\u001b[38;5;241m-\u001b[39m\u001b[38;5;241m1\u001b[39m])\n\u001b[0;32m    613\u001b[0m \u001b[38;5;28mself\u001b[39m\u001b[38;5;241m.\u001b[39mstate \u001b[38;5;241m=\u001b[39m \u001b[38;5;124m'\u001b[39m\u001b[38;5;124mAUTH\u001b[39m\u001b[38;5;124m'\u001b[39m\n\u001b[0;32m    614\u001b[0m \u001b[38;5;28;01mreturn\u001b[39;00m typ, dat\n",
      "\u001b[1;31merror\u001b[0m: b'LOGIN failed.'"
     ]
    }
   ],
   "source": [
    "# Configuración de acceso al servidor IMAP\n",
    "username = \"softlog80@outlook.com\"\n",
    "password = \"Softlog@24\"\n",
    "imap_server = \"outlook.office365.com\"\n",
    "\n",
    "# Conexión al servidor\n",
    "mail = imaplib.IMAP4_SSL(imap_server)\n",
    "mail.login(username, password)"
   ]
  },
  {
   "cell_type": "code",
   "execution_count": null,
   "metadata": {},
   "outputs": [],
   "source": [
    "# Selecciona la bandeja de entrada\n",
    "mail.select(\"inbox\")\n",
    "\n",
    "# Busca los correos no leídos\n",
    "status, messages = mail.search(None, 'UNSEEN')"
   ]
  },
  {
   "cell_type": "code",
   "execution_count": null,
   "metadata": {},
   "outputs": [],
   "source": [
    "# Procesa los correos\n",
    "for num in messages[0].split():\n",
    "    status, msg_data = mail.fetch(num, \"(RFC822)\")\n",
    "    msg = email.message_from_bytes(msg_data[0][1])\n",
    "    \n",
    "    # Decodifica el asunto\n",
    "    subject, encoding = decode_header(msg[\"Subject\"])[0]\n",
    "    if isinstance(subject, bytes):\n",
    "        subject = subject.decode(encoding if encoding else \"utf-8\")\n",
    "    \n",
    "    # Procesa el correo solo si el asunto tiene el formato esperado\n",
    "    if \"Depósito\" in subject:\n",
    "        print(f\"Asunto: {subject}\")\n",
    "        \n",
    "        # Parsear el nombre y la cantidad depositada desde el asunto\n",
    "        # Ejemplo de formato: \"Depósito: Juan 1000\"\n",
    "        partes = subject.split()\n",
    "        nombre = partes[1]\n",
    "        cantidad = float(partes[2])\n",
    "        \n",
    "        # Guardar en la base de datos (ver paso 3)\n",
    "\n",
    "mail.logout()"
   ]
  }
 ],
 "metadata": {
  "kernelspec": {
   "display_name": "env_ts",
   "language": "python",
   "name": "python3"
  },
  "language_info": {
   "codemirror_mode": {
    "name": "ipython",
    "version": 3
   },
   "file_extension": ".py",
   "mimetype": "text/x-python",
   "name": "python",
   "nbconvert_exporter": "python",
   "pygments_lexer": "ipython3",
   "version": "3.9.19"
  }
 },
 "nbformat": 4,
 "nbformat_minor": 2
}
