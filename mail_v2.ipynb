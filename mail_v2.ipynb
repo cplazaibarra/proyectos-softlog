{
 "cells": [
  {
   "cell_type": "code",
   "execution_count": 1,
   "metadata": {},
   "outputs": [],
   "source": [
    "from pathlib import Path\n",
    "import datetime\n",
    "import re\n",
    "\n",
    "import win32com.client  #pip install pywin32\n",
    "\n",
    "\n"
   ]
  },
  {
   "cell_type": "code",
   "execution_count": 2,
   "metadata": {},
   "outputs": [],
   "source": [
    "# Create output folder\n",
    "output_dir = Path.cwd() / \"Output\"\n",
    "output_dir.mkdir(parents=True, exist_ok=True)\n",
    "\n",
    "# Connect to outlook\n",
    "outlook = win32com.client.Dispatch(\"Outlook.Application\").GetNamespace(\"MAPI\")\n",
    "\n"
   ]
  },
  {
   "cell_type": "code",
   "execution_count": null,
   "metadata": {},
   "outputs": [],
   "source": [
    "# Connect to folder\n",
    "#inbox = outlook.Folders(\"youremail@provider.com\").Folders(\"Inbox\")\n",
    "inbox = outlook.GetDefaultFolder(6)\n",
    "# https://docs.microsoft.com/en-us/office/vba/api/outlook.oldefaultfolders\n",
    "# DeletedItems=3, Outbox=4, SentMail=5, Inbox=6, Drafts=16, FolderJunk=23\n",
    "\n",
    "# Get messages\n",
    "messages = inbox.Items\n",
    "\n",
    "for message in messages:\n",
    "    subject = message.Subject\n",
    "    body = message.body\n",
    "    attachments = message.Attachments\n",
    "\n",
    "    # Create separate folder for each message, exclude special characters and timestampe\n",
    "    current_time = datetime.datetime.now().strftime(\"%Y-%m-%d_%H-%M-%S\")\n",
    "    target_folder = output_dir / re.sub('[^0-9a-zA-Z]+', '', subject) / current_time\n",
    "    target_folder.mkdir(parents=True, exist_ok=True)\n",
    "\n",
    "    # Write body to text file\n",
    "    Path(target_folder / \"EMAIL_BODY.txt\").write_text(str(body))\n",
    "\n",
    "    # Save attachments and exclude special\n",
    "    for attachment in attachments:\n",
    "        filename = re.sub('[^0-9a-zA-Z\\.]+', '', attachment.FileName)\n",
    "        attachment.SaveAsFile(target_folder / filename)"
   ]
  }
 ],
 "metadata": {
  "kernelspec": {
   "display_name": "env_ts",
   "language": "python",
   "name": "python3"
  },
  "language_info": {
   "codemirror_mode": {
    "name": "ipython",
    "version": 3
   },
   "file_extension": ".py",
   "mimetype": "text/x-python",
   "name": "python",
   "nbconvert_exporter": "python",
   "pygments_lexer": "ipython3",
   "version": "3.9.19"
  }
 },
 "nbformat": 4,
 "nbformat_minor": 2
}
