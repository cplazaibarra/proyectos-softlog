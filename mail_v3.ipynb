{
 "cells": [
  {
   "cell_type": "code",
   "execution_count": 2,
   "metadata": {},
   "outputs": [],
   "source": [
    "import smtplib\n",
    "import os\n",
    "from dotenv import load_dotenv\n",
    "from email.mime.multipart import MIMEMultipart\n",
    "from email.mime.text import MIMEText\n",
    "\n"
   ]
  },
  {
   "cell_type": "code",
   "execution_count": 5,
   "metadata": {},
   "outputs": [
    {
     "data": {
      "text/plain": [
       "(221,\n",
       " b'2.0.0 closing connection 71dfb90a1353d-505aa09ae9esm2789722e0c.42 - gsmtp')"
      ]
     },
     "execution_count": 5,
     "metadata": {},
     "output_type": "execute_result"
    }
   ],
   "source": [
    "load_dotenv()   #carga variables de entorno\n",
    "remitente= os.getenv('USER')\n",
    "destinatario='chplaza@hotmail.com'\n",
    "asunto='test'\n",
    "\n",
    "msg = MIMEMultipart()\n",
    "msg['Subject'] = asunto\n",
    "msg['From'] = remitente\n",
    "msg['To'] = destinatario\n",
    "\n",
    "with open('email.html','r') as archivo:\n",
    "    html = archivo.read()\n",
    "#Adjuntar contenido\n",
    "msg.attach(MIMEText(html, 'html'))\n",
    "\n",
    "#Representa una conexion con un servidor de correo saliente SMTP\n",
    "server = smtplib.SMTP('smtp.gmail.com', 587)\n",
    "#Conexion segura\n",
    "server.starttls()\n",
    "server.login(remitente, os.getenv('PASS'))\n",
    "\n",
    "#enviar correo electronico\n",
    "server.sendmail(remitente, destinatario, msg.as_string())\n",
    "\n",
    "server.quit()\n",
    "\n",
    "\n"
   ]
  }
 ],
 "metadata": {
  "kernelspec": {
   "display_name": "env_ts",
   "language": "python",
   "name": "python3"
  },
  "language_info": {
   "codemirror_mode": {
    "name": "ipython",
    "version": 3
   },
   "file_extension": ".py",
   "mimetype": "text/x-python",
   "name": "python",
   "nbconvert_exporter": "python",
   "pygments_lexer": "ipython3",
   "version": "3.9.19"
  }
 },
 "nbformat": 4,
 "nbformat_minor": 2
}
